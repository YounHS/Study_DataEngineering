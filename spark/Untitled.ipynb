{
 "cells": [
  {
   "cell_type": "code",
   "execution_count": 1,
   "id": "fa12b997",
   "metadata": {},
   "outputs": [],
   "source": [
    "from pyspark import (SparkConf, SparkContext)\n",
    "from pyspark.sql.session import SparkSession\n",
    "\n",
    "import pyspark.sql.functions as F\n",
    "import findspark"
   ]
  },
  {
   "cell_type": "code",
   "execution_count": 7,
   "id": "c904814b",
   "metadata": {},
   "outputs": [],
   "source": [
    "findspark.init(\"D:\\spark\\spark-3.1.1-bin-hadoop2.7\")"
   ]
  },
  {
   "cell_type": "code",
   "execution_count": 2,
   "id": "95acd04a",
   "metadata": {},
   "outputs": [
    {
     "data": {
      "text/plain": [
       "108"
      ]
     },
     "execution_count": 2,
     "metadata": {},
     "output_type": "execute_result"
    }
   ],
   "source": [
    "# SparkSession 인스턴스 생성\n",
    "spark = SparkSession.builder.appName('teststock').getOrCreate()\n",
    "\n",
    "textFile = spark.read.text(\"README.md\")\n",
    "textFile.count()  # Number of rows in this DataFrame"
   ]
  },
  {
   "cell_type": "code",
   "execution_count": null,
   "id": "a9bd6656",
   "metadata": {},
   "outputs": [],
   "source": []
  }
 ],
 "metadata": {
  "kernelspec": {
   "display_name": "Python 3",
   "language": "python",
   "name": "python3"
  },
  "language_info": {
   "codemirror_mode": {
    "name": "ipython",
    "version": 3
   },
   "file_extension": ".py",
   "mimetype": "text/x-python",
   "name": "python",
   "nbconvert_exporter": "python",
   "pygments_lexer": "ipython3",
   "version": "3.7.2"
  }
 },
 "nbformat": 4,
 "nbformat_minor": 5
}
