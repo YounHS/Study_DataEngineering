{
 "cells": [
  {
   "cell_type": "code",
   "execution_count": 24,
   "metadata": {},
   "outputs": [],
   "source": [
    "from pyspark import (SparkConf, SparkContext)\n",
    "from pyspark.sql.session import SparkSession\n",
    "from pyspark.sql.types import *\n",
    "from tqdm import tqdm\n",
    "\n",
    "import pyspark.sql.functions as F\n",
    "import pyspark\n",
    "import random\n",
    "import pickle\n",
    "import pandas as pd\n",
    "import time"
   ]
  },
  {
   "cell_type": "code",
   "execution_count": 2,
   "metadata": {},
   "outputs": [],
   "source": [
    "ss = SparkSession.builder.appName('testa').getOrCreate()"
   ]
  },
  {
   "cell_type": "code",
   "execution_count": 26,
   "metadata": {},
   "outputs": [
    {
     "name": "stderr",
     "output_type": "stream",
     "text": [
      "100%|█████████████████████████████████████████████████████████████████████████████████| 79/79 [00:00<00:00, 431.71it/s]\n"
     ]
    },
    {
     "name": "stdout",
     "output_type": "stream",
     "text": [
      "<class 'pandas.core.frame.DataFrame'>\n",
      "RangeIndex: 11751 entries, 0 to 11750\n",
      "Data columns (total 8 columns):\n",
      " #   Column        Non-Null Count  Dtype  \n",
      "---  ------        --------------  -----  \n",
      " 0   label         11751 non-null  object \n",
      " 1   yaw           11751 non-null  float64\n",
      " 2   position.x    11751 non-null  float64\n",
      " 3   position.y    11751 non-null  float64\n",
      " 4   position.z    11751 non-null  float64\n",
      " 5   dimensions.x  11751 non-null  float64\n",
      " 6   dimensions.y  11751 non-null  float64\n",
      " 7   dimensions.z  11751 non-null  float64\n",
      "dtypes: float64(7), object(1)\n",
      "memory usage: 734.6+ KB\n",
      "None\n"
     ]
    }
   ],
   "source": [
    "for i in tqdm(range(0, 79)): \n",
    "    with open('./pandaset_data/' + str(i) + '.pkl', 'rb') as p_f:\n",
    "            data = pickle.load(p_f)\n",
    "\n",
    "    refined_data = data.drop(['uuid', 'attributes.pedestrian_behavior', 'attributes.rider_status', \n",
    "                              'attributes.object_motion', 'attributes.pedestrian_age', 'cuboids.sibling_id', \n",
    "                              'cuboids.sensor_id', 'camera_used', 'stationary'], axis=1)\n",
    "    \n",
    "    if i == 0:\n",
    "        df = pd.DataFrame(refined_data)\n",
    "    else:\n",
    "        df = pd.concat([df, pd.DataFrame(refined_data)], ignore_index=True)\n",
    "    \n",
    "print(df.info())\n",
    "df.to_csv(\"pandaspark.csv\")"
   ]
  },
  {
   "cell_type": "code",
   "execution_count": 45,
   "metadata": {},
   "outputs": [
    {
     "name": "stdout",
     "output_type": "stream",
     "text": [
      "root\n",
      " |-- label: string (nullable = true)\n",
      " |-- yaw: float (nullable = true)\n",
      " |-- position.x: float (nullable = true)\n",
      " |-- position.y: float (nullable = true)\n",
      " |-- position.z: float (nullable = true)\n",
      " |-- dimensions.x: float (nullable = true)\n",
      " |-- dimensions.y: float (nullable = true)\n",
      " |-- dimensions.z: float (nullable = true)\n",
      "\n"
     ]
    }
   ],
   "source": [
    "schema = StructType([\n",
    "    StructField('label', StringType(), True),\n",
    "    StructField('yaw', FloatType(), True),\n",
    "    StructField('position.x', FloatType(), True),\n",
    "    StructField('position.y', FloatType(), True),\n",
    "    StructField('position.z', FloatType(), True),\n",
    "    StructField('dimensions.x', FloatType(), True),\n",
    "    StructField('dimensions.y', FloatType(), True),\n",
    "    StructField('dimensions.z', FloatType(), True)\n",
    "])\n",
    "\n",
    "ddf = ss.read.schema(schema = schema).csv(\"pandaspark.csv\", header=True)\n",
    "ddf.printSchema()\n",
    "\n",
    "# ddf = ddf.where((ddf.label == \"Car\") | (ddf.label == \"Pedestrian\")).drop(\"yaw\", \"dimensions.z\").show(truncate=False)\n",
    "ddf = ddf.where((ddf.label == \"Car\") | (ddf.label == \"Pedestrian\")).drop(\"yaw\", \"dimensions.z\").toPandas().to_csv('integrated_panda_car_ped.csv')"
   ]
  },
  {
   "cell_type": "code",
   "execution_count": null,
   "metadata": {},
   "outputs": [],
   "source": []
  }
 ],
 "metadata": {
  "kernelspec": {
   "display_name": "Python 3",
   "language": "python",
   "name": "python3"
  },
  "language_info": {
   "codemirror_mode": {
    "name": "ipython",
    "version": 3
   },
   "file_extension": ".py",
   "mimetype": "text/x-python",
   "name": "python",
   "nbconvert_exporter": "python",
   "pygments_lexer": "ipython3",
   "version": "3.7.2"
  }
 },
 "nbformat": 4,
 "nbformat_minor": 4
}
