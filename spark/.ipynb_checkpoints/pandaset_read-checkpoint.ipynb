{
 "cells": [
  {
   "cell_type": "code",
   "execution_count": 24,
   "metadata": {},
   "outputs": [],
   "source": [
    "from pyspark import (SparkConf, SparkContext)\n",
    "from pyspark.sql.session import SparkSession\n",
    "from pyspark.sql.types import *\n",
    "from tqdm import tqdm\n",
    "\n",
    "import pyspark.sql.functions as F\n",
    "import pyspark\n",
    "import random\n",
    "import pickle\n",
    "import pandas as pd\n",
    "import time"
   ]
  },
  {
   "cell_type": "code",
   "execution_count": 2,
   "metadata": {},
   "outputs": [],
   "source": [
    "ss = SparkSession.builder.appName('testa').getOrCreate()"
   ]
  },
  {
   "cell_type": "code",
   "execution_count": 26,
   "metadata": {},
   "outputs": [
    {
     "name": "stderr",
     "output_type": "stream",
     "text": [
      "100%|█████████████████████████████████████████████████████████████████████████████████| 79/79 [00:00<00:00, 431.71it/s]\n"
     ]
    },
    {
     "name": "stdout",
     "output_type": "stream",
     "text": [
      "<class 'pandas.core.frame.DataFrame'>\n",
      "RangeIndex: 11751 entries, 0 to 11750\n",
      "Data columns (total 8 columns):\n",
      " #   Column        Non-Null Count  Dtype  \n",
      "---  ------        --------------  -----  \n",
      " 0   label         11751 non-null  object \n",
      " 1   yaw           11751 non-null  float64\n",
      " 2   position.x    11751 non-null  float64\n",
      " 3   position.y    11751 non-null  float64\n",
      " 4   position.z    11751 non-null  float64\n",
      " 5   dimensions.x  11751 non-null  float64\n",
      " 6   dimensions.y  11751 non-null  float64\n",
      " 7   dimensions.z  11751 non-null  float64\n",
      "dtypes: float64(7), object(1)\n",
      "memory usage: 734.6+ KB\n",
      "None\n"
     ]
    }
   ],
   "source": [
    "for i in tqdm(range(0, 79)): \n",
    "    with open('./pandaset_data/' + str(i) + '.pkl', 'rb') as p_f:\n",
    "            data = pickle.load(p_f)\n",
    "\n",
    "    refined_data = data.drop(['uuid', 'attributes.pedestrian_behavior', 'attributes.rider_status', \n",
    "                              'attributes.object_motion', 'attributes.pedestrian_age', 'cuboids.sibling_id', \n",
    "                              'cuboids.sensor_id', 'camera_used', 'stationary'], axis=1)\n",
    "    \n",
    "    if i == 0:\n",
    "        df = pd.DataFrame(refined_data)\n",
    "    else:\n",
    "        df = pd.concat([df, pd.DataFrame(refined_data)], ignore_index=True)\n",
    "    \n",
    "print(df.info())\n",
    "df.to_csv(\"pandaspark.csv\")"
   ]
  },
  {
   "cell_type": "code",
   "execution_count": 28,
   "metadata": {},
   "outputs": [
    {
     "name": "stdout",
     "output_type": "stream",
     "text": [
      "+----------+-----------+----------+----------+----------+------------+------------+------------+\n",
      "|label     |yaw        |position.x|position.y|position.z|dimensions.x|dimensions.y|dimensions.z|\n",
      "+----------+-----------+----------+----------+----------+------------+------------+------------+\n",
      "|Car       |2.3803062  |20.759    |31.401    |0.591     |1.867       |4.629       |1.673       |\n",
      "|Car       |2.3267868  |-60.458   |-37.423   |0.934     |2.104       |4.215       |1.681       |\n",
      "|Car       |2.3803062  |26.281    |36.583    |0.451     |1.867       |4.689       |1.511       |\n",
      "|Car       |-0.79735255|-44.205   |-44.985   |0.986     |2.049       |4.409       |1.733       |\n",
      "|Car       |0.74077624 |-72.901   |100.37    |0.519     |1.825       |4.441       |1.641       |\n",
      "|Car       |2.374344   |82.091    |107.072   |0.679     |1.99        |4.386       |1.76        |\n",
      "|Car       |2.3984423  |-30.673   |-7.523    |0.759     |1.849       |4.723       |1.561       |\n",
      "|Car       |-0.79162264|-10.899   |-10.02    |0.823     |1.94        |4.302       |1.858       |\n",
      "|Car       |2.4337456  |-4.207    |11.652    |0.559     |1.756       |4.441       |1.521       |\n",
      "|Pedestrian|2.3361564  |8.725     |37.331    |0.781     |0.824       |1.259       |1.917       |\n",
      "|Car       |-2.372427  |-6.854    |26.46     |0.589     |2.102       |4.628       |1.474       |\n",
      "|Car       |0.63590807 |34.919    |-11.359   |0.811     |1.924       |4.164       |1.663       |\n",
      "|Car       |0.5836966  |53.513    |-37.821   |2.825     |1.841       |4.408       |1.99        |\n",
      "|Car       |0.6360565  |52.568    |-28.182   |1.89      |1.841       |4.408       |1.99        |\n",
      "|Car       |-2.3549736 |-8.704    |23.317    |0.6       |1.937       |4.143       |1.642       |\n",
      "|Car       |-0.7763623 |114.658   |116.61    |0.221     |1.983       |4.2         |1.643       |\n",
      "|Car       |-2.3375204 |-19.084   |33.955    |0.658     |2.17        |4.835       |1.836       |\n",
      "|Car       |-2.3375204 |-13.885   |28.142    |0.481     |2.044       |4.381       |1.605       |\n",
      "|Car       |2.374344   |126.755   |152.526   |0.295     |2.039       |4.503       |1.714       |\n",
      "|Car       |0.56973416 |33.87     |-3.783    |0.441     |1.841       |4.408       |1.677       |\n",
      "+----------+-----------+----------+----------+----------+------------+------------+------------+\n",
      "only showing top 20 rows\n",
      "\n"
     ]
    }
   ],
   "source": [
    "# dara = ss.read.option(\"header\", \"true\").csv(\"pandaspark.csv\")\n",
    "\n",
    "schema = StructType([\n",
    "    StructField('label', StringType(), True),\n",
    "    StructField('yaw', FloatType(), True),\n",
    "    StructField('position.x', FloatType(), True),\n",
    "    StructField('position.y', FloatType(), True),\n",
    "    StructField('position.z', FloatType(), True),\n",
    "    StructField('dimensions.x', FloatType(), True),\n",
    "    StructField('dimensions.y', FloatType(), True),\n",
    "    StructField('dimensions.z', FloatType(), True)\n",
    "])\n",
    "\n",
    "ddf = ss.read.schema(schema = schema).csv(\"pandaspark.csv\", header=True)\n",
    "# ddf.show()\n",
    "ddf.where((ddf.label == \"Car\") | (ddf.label == \"Pedestrian\")).show(truncate=False)\n",
    "\n",
    "# ddff.show()\n",
    "# print(df)"
   ]
  },
  {
   "cell_type": "code",
   "execution_count": null,
   "metadata": {},
   "outputs": [],
   "source": [
    "ddf.toPandas().to_csv('./structed_human_car_output.csv')"
   ]
  },
  {
   "cell_type": "code",
   "execution_count": null,
   "metadata": {},
   "outputs": [],
   "source": []
  }
 ],
 "metadata": {
  "kernelspec": {
   "display_name": "Python 3",
   "language": "python",
   "name": "python3"
  },
  "language_info": {
   "codemirror_mode": {
    "name": "ipython",
    "version": 3
   },
   "file_extension": ".py",
   "mimetype": "text/x-python",
   "name": "python",
   "nbconvert_exporter": "python",
   "pygments_lexer": "ipython3",
   "version": "3.7.2"
  }
 },
 "nbformat": 4,
 "nbformat_minor": 4
}
